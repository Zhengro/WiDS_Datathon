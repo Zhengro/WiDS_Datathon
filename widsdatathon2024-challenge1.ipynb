{
 "cells": [
  {
   "cell_type": "markdown",
   "metadata": {},
   "source": [
    "# Introduction"
   ]
  },
  {
   "cell_type": "markdown",
   "metadata": {},
   "source": [
    "## [Overview](https://www.kaggle.com/competitions/widsdatathon2024-challenge1/overview)\n",
    "- Objective: Develop a model to predict if patients received a metastatic cancer diagnosis within 90 days of screening (i.e., `DiagPeriodL90D`) using a unique oncology dataset.\n",
    "- Motivation: \n",
    "    - Metastatic TNBC is considered the most aggressive TNBC and requires most urgent and timely treatment. Unnecessary delays in diagnosis and subsequent treatment can have devastating effects in these difficult cancers. Differences in the wait time to get treatment is a good proxy for disparities in healthcare access.\n",
    "    - The primary goal of building these models is to detect relationships between demographics of the patient with the likelihood of getting timely treatment. The secondary goal is to see if environmental hazards impact proper diagnosis and treatment.  #TODO: check this\n",
    "- Dataset\n",
    "    - Source: Provided by Gilead Sciences, originating from Health Verity and enriched with third-party geo-demographic data and zip code level toxicology data from NASA/Columbia University.\n",
    "    - Content: Information about demographics, diagnosis, treatment options, and insurance for patients diagnosed with breast cancer from 2015-2018.\n",
    "    - Highlighted Features:\n",
    "        - Demographics (e.g., age, gender, race, ...)\n",
    "        - Diagnosis and treatment details (e.g., breast cancer diagnosis code, metastatic cancer diagnosis code, metastatic cancer treatments, ...)\n",
    "        - Insurance information\n",
    "        - Geo (zip-code level) demographic data (e.g, income, education, rent, race, poverty, ...)\n",
    "        - Toxic air quality (zip-code level) data (e.g., Ozone, PM25 and NO2, ...)\n",
    "- Evaluation\n",
    "    - Metric: Area Under the Receiver Operating Characteristic (ROC) Curve (AUC-ROC).\n",
    "    - Leaderboard:\n",
    "        - During the competition: 51% of the test data.\n",
    "        - Final standings: 49% of the test data.\n",
    "- Submission Format\n",
    "    - File Format: CSV\n",
    "    - Columns:\n",
    "        - `patient_id` (integer)\n",
    "        - `DiagPeriodL90D` (percentage)\n",
    "    - Example:\n",
    "        ```\n",
    "        patient_id,DiagPeriodL90D\n",
    "        372069,.5\n",
    "        981264,.5\n",
    "        ```"
   ]
  },
  {
   "cell_type": "markdown",
   "metadata": {},
   "source": [
    "## [Dataset](https://www.kaggle.com/competitions/widsdatathon2024-challenge1/data)\n",
    "Roughly 18k records, each corresponds to a single patient and her Diagnosis Period\n",
    "- `training.csv`\n",
    "    - 12906 records\n",
    "    - 83 columns, the last column is `DiagPeriodL90D` (int64)\n",
    "- `test.csv`\n",
    "    - 5792 records\n",
    "    - 82 columns"
   ]
  },
  {
   "cell_type": "markdown",
   "metadata": {},
   "source": [
    "### Columns"
   ]
  },
  {
   "cell_type": "markdown",
   "metadata": {},
   "source": [
    "| Column Name | Meaning | Notes Before EDA |\n",
    "|-------------|---------|------------------|\n",
    "| `patient_id` | Unique identification number of patient | only useful in data pre- and post-processing, but irrelavant to target prediction |\n",
    "| `patient_race` | <span style=\"color: #57b9ff;\">Asian, African American, Hispanic or Latino, White, Other Race</span> | races + nan, nan -> \"unknown\", encode |\n",
    "| `payer_type` | <span style=\"color: #57b9ff;\">Payer type at Medicaid, Commercial, Medicare on the metastatic date</span> | payers + nan, nan -> \"unknown\", encode |\n",
    "| `patient_state` | <span style=\"color: #57b9ff;\">Patient state (e.g., AL, AK, AZ, AR, CA, CO, etc.) on the metastatic date</span> | states + nan, nan -> \"unknown\", encode |\n",
    "| `patient_zip3` | Patient Zip3 (e.g., 190) on the metastatic date | int64, encode? |\n",
    "| `patient_age` | Derived from Patient Year of Birth (index year minus year of birth) | int64 |\n",
    "| `patient_gender` | <span style=\"color: #57b9ff;\">F, M on the metastatic date</span> | genders, encode |\n",
    "| `bmi` | If available, will show available BMI (e.g., 24) information (Earliest BMI recording post metastatic date) | float64 + nan, nan -> -1? |\n",
    "| `breast_cancer_diagnosis_code` | <span style=\"color: #57b9ff;\">ICD10 (e.g., C50412) or ICD9 (e.g., 1748) diagnoses code</span> | codes, encode |\n",
    "| `breast_cancer_diagnosis_desc` | <span style=\"color: #ffa500;\">ICD10 or ICD9 code description. This column is raw text and may require NLP/processing and cleaning</span> | length?, encode, which tokenizer?, token diversity?, fine-tune tokenizer? |\n",
    "| `metastatic_cancer_diagnosis_code` | <span style=\"color: #57b9ff;\">ICD10 (e.g., C773) diagnoses code | codes, encode |\n",
    "| `metastatic_first_novel_treatment` | <span style=\"color: #57b9ff;\">Generic drug name of the first novel treatment (e.g., \"Cisplatin\") after metastatic diagnosis</span> | very few, very timely diagnosis? nan -> \"unknown\" |\n",
    "| `metastatic_first_novel_treatment_type` | <span style=\"color: #57b9ff;\">Description of the treatment (e.g., Antineoplastic) of the first novel treatment after metastatic diagnosis</span> | very few, very timely diagnosis? nan -> \"unknown\" |\n",
    "| `Region` | <span style=\"color: #57b9ff;\">Region of patient location (e.g., Midwest)</span> | regions + nan, nan -> \"unknown\", encode |\n",
    "| `Division` | <span style=\"color: #57b9ff;\">Division of patient location (e.g., East North Central)</span> | divisions + nan, nan -> \"unknown\", encode |\n",
    "| `population` | An estimate of the zip code's population | one record missing!, nan -> -1?, remove record? |\n",
    "| `density` | The estimated population per square kilometer | one record missing!, nan -> -1?, remove record? |\n",
    "| `age_median` | The median age of residents in the zip code | which are irrelavant? aggregate? nan -> -1? |\n",
    "| `male` | The percentage of residents who report being male (e.g., 55.1) | |\n",
    "| `female` | The percentage of residents who report being female (e.g., 44.9) | |\n",
    "| `married` | The percentage of residents who report being married (e.g., 44.9) | |\n",
    "| `family_size` | The average size of resident families (e.g., 3.22) | |\n",
    "| `income_household_median` | Median household income in USD | |\n",
    "| `income_household_six_figure` | Percentage of households that earn at least $100,000 (e.g., 25.3) | |\n",
    "| `home_ownership` | Percentage of households that own (rather than rent) their residence | |\n",
    "| `housing_units` | The number of housing units (or households) in the zip code | |\n",
    "| `home_value` | The median value of homes that are owned by residents | |\n",
    "| `rent_median` | The median rent paid by renters | |\n",
    "| `education_college_or_above` | The percentage of residents with at least a 4-year degree | |\n",
    "| `labor_force_participation` | The percentage of residents 16 and older in the labor force | |\n",
    "| `unemployment_rate` | The percentage of residents unemployed | |\n",
    "| `race_white` | The percentage of residents who report their race as White | |\n",
    "| `race_black` | The percentage of residents who report their race as Black or African American | |\n",
    "| `race_asian` | The percentage of residents who report their race as Asian | |\n",
    "| `race_native` | The percentage of residents who report their race as American Indian and Alaska Native | |\n",
    "| `race_pacific` | The percentage of residents who report their race as Native Hawaiian and Other Pacific Islander | |\n",
    "| `race_other` | The percentage of residents who report their race as Some other race | |\n",
    "| `race_multiple` | The percentage of residents who report their race as Two or more races | |\n",
    "| `hispanic` | The percentage of residents who report being Hispanic. Note: Hispanic is considered to be an ethnicity and not a race | |\n",
    "| `age_under_10` | The percentage of residents aged 0-9 | |\n",
    "| `age_10_to_19` | The percentage of residents aged 10-19 | |\n",
    "| `age_20s` | The percentage of residents aged 20-29 | |\n",
    "| `age_30s` | The percentage of residents aged 30-39 | |\n",
    "| `age_40s` | The percentage of residents aged 40-49 | |\n",
    "| `age_50s` | The percentage of residents aged 50-59 | |\n",
    "| `age_60s` | The percentage of residents aged 60-69 | |\n",
    "| `age_70s` | The percentage of residents aged 70-79 | |\n",
    "| `age_over_80` | The percentage of residents aged over 80 | |\n",
    "| `divorced` | The percentage of residents divorced | |\n",
    "| `never_married` | The percentage of residents never married | |\n",
    "| `widowed` | The percentage of residents widowed | |\n",
    "| `family_dual_income` | The percentage of families with dual income earners | |\n",
    "| `income_household_under_5` | The percentage of households with income under $5,000 | |\n",
    "| `income_household_5_to_10` | The percentage of households with income from $5,000-$10,000 | |\n",
    "| `income_household_10_to_15` | The percentage of households with income from $10,000-$15,000 | |\n",
    "| `income_household_15_to_20` | The percentage of households with income from $15,000-$20,000 | |\n",
    "| `income_household_20_to_25` | The percentage of households with income from $20,000-$25,000 | |\n",
    "| `income_household_25_to_35` | The percentage of households with income from $25,000-$35,000 | |\n",
    "| `income_household_35_to_50` | The percentage of households with income from $35,000-$50,000 | |\n",
    "| `income_household_50_to_75` | The percentage of households with income from $50,000-$75,000 | |\n",
    "| `income_household_75_to_100` | The percentage of households with income from $75,000-$100,000 | |\n",
    "| `income_household_100_to_150` | The percentage of households with income from $100,000-$150,000 | |\n",
    "| `income_household_150_over` | The percentage of households with income over $150,000 | |\n",
    "| `income_individual_median` | The median income of individuals in the zip code | |\n",
    "| `poverty` | The median value of owner-occupied homes | |\n",
    "| `rent_burden` | The median rent as a percentage of the median renter's household income | |\n",
    "| `education_less_highschool` | The percentage of residents with less than a high school education | |\n",
    "| `education_highschool` | The percentage of residents with a high school diploma but no more | |\n",
    "| `education_some_college` | The percentage of residents with some college but no more | |\n",
    "| `education_bachelors` | The percentage of residents with a bachelor's degree (or equivalent) but no more | |\n",
    "| `education_graduate` | The percentage of residents with a graduate degree | |\n",
    "| `education_stem_degree` | The percentage of college graduates with a Bachelor's degree or higher in a Science and Engineering (or related) field | |\n",
    "| `self_employed` | The percentage of households reporting self-employment income on their 2016 IRS tax return | |\n",
    "| `farmer` | The percentage of households reporting farm income on their 2016 IRS tax return | |\n",
    "| `disabled` | The percentage of residents who report a disability | |\n",
    "| `limited_english` | The percentage of residents who only speak limited English | |\n",
    "| `commute_time` | The median commute time of resident workers in minutes | |\n",
    "| `health_uninsured` | The percentage of residents who report not having health insurance | |\n",
    "| `veteran` | The percentage of residents who are veterans | |\n",
    "| `Ozone` | Annual Ozone (O3) concentration data at Zip3 level. This data shows how air quality data may impact health | many record missing, nan -> -1? |\n",
    "| `PM25` | Annual Fine Particulate Matter (PM2.5) concentration data at Zip3 level. This data shows how air quality data may impact health | many record missing, nan -> -1? |\n",
    "| `N02` | Annual Nitrogen Dioxide (NO2) concentration data at Zip3 level. This data shows how air quality data may impact health | many record missing, nan -> -1? |\n",
    "| `DiagPeriodL90D` | Diagnosis period being less than 90 days | |"
   ]
  },
  {
   "cell_type": "markdown",
   "metadata": {},
   "source": [
    "# Exploratory Data Analysis"
   ]
  },
  {
   "cell_type": "markdown",
   "metadata": {},
   "source": [
    "Thoughts:\n",
    "- EDA: columns dist - 0 vs 1\n",
    "- Don't remove records easily where certain columns are empty. You don't know if such data missing pattern indicates certain characteristics of patients which correlates to target prediction.\n",
    "- Ensure same pre- and post-processing for training and test data.\n",
    "- Logistic Regression as a prelimilary step to discover relevant columns.\n",
    "\n",
    "Questions:\n",
    "- Which columns need normalization?\n",
    "- Unify numericals to float64?"
   ]
  },
  {
   "cell_type": "code",
   "execution_count": null,
   "metadata": {},
   "outputs": [],
   "source": [
    "import pandas as pd\n",
    "import seaborn as sns\n",
    "import matplotlib.pyplot as plt\n",
    "from typing import List, Tuple, Optional, Union"
   ]
  },
  {
   "cell_type": "code",
   "execution_count": null,
   "metadata": {},
   "outputs": [],
   "source": [
    "# seaborn style (default)\n",
    "sns.set_theme(context=\"notebook\", style=\"darkgrid\", palette=\"deep\", font=\"sans-serif\", font_scale=1, color_codes=True, rc=None)\n",
    "\n",
    "# font sizes\n",
    "title_fontsize = 14\n",
    "label_fontsize = 12\n",
    "tick_fontsize = 10\n",
    "text_fontsize = 10\n",
    "\n",
    "# random state\n",
    "random_state = 42\n",
    "\n",
    "# copy-on-write\n",
    "pd.set_option(\"mode.copy_on_write\", True)\n",
    "\n",
    "# maximum column width, number of rows and columns to display\n",
    "pd.set_option('display.max_colwidth', None)  # no limit\n",
    "pd.set_option('display.max_rows', None)      # no limit\n",
    "pd.set_option('display.max_columns', None)   # no limit"
   ]
  },
  {
   "cell_type": "code",
   "execution_count": null,
   "metadata": {},
   "outputs": [],
   "source": [
    "df_training = pd.read_csv('data/training.csv')\n",
    "df_training.info()"
   ]
  },
  {
   "cell_type": "markdown",
   "metadata": {},
   "source": [
    "<span style=\"color: #ffed29;\">From the `dtypes` (NumPy data types: `np.float64`, `np.int64`; Python's built-in type: `object`), we know that the missing values in all columns can only be `numpy.nan`, i.e., `NaN`.</span>"
   ]
  },
  {
   "cell_type": "markdown",
   "metadata": {},
   "source": [
    "## Drop Duplicates\n",
    "Remove records where all attributes are identical except for `patient_id`.\n"
   ]
  },
  {
   "cell_type": "code",
   "execution_count": null,
   "metadata": {},
   "outputs": [],
   "source": [
    "def find_duplicates(df, id_col):\n",
    "    \"\"\"\n",
    "    Identifies and filters duplicates based on all columns except the specified ID column.\n",
    "    \n",
    "    Parameters:\n",
    "    df (pd.DataFrame): The input DataFrame.\n",
    "    id_col (str): The name of the ID column.\n",
    "    \n",
    "    Returns:\n",
    "    pd.DataFrame: A DataFrame containing only the duplicated rows.\n",
    "    list: List of columns to check for duplicates.\n",
    "    \"\"\"\n",
    "    columns_to_check = df.columns.difference([id_col]).to_list()\n",
    "    duplicates_mask = df.duplicated(subset=columns_to_check, keep=False)\n",
    "    duplicates_df = df[duplicates_mask].copy()\n",
    "    return duplicates_df, columns_to_check"
   ]
  },
  {
   "cell_type": "code",
   "execution_count": null,
   "metadata": {},
   "outputs": [],
   "source": [
    "# find duplicates except the `patient_id` column\n",
    "duplicates_df, columns_to_check = find_duplicates(df_training, 'patient_id')\n",
    "first_occurrence_df = duplicates_df.drop_duplicates(subset=columns_to_check)\n",
    "print('All Duplicated Rows (including the first occurrence):')\n",
    "print(duplicates_df.to_string(index=False))\n",
    "print(f'\\nTotal Number of Duplicated Rows (excluding the first occurrence): {len(duplicates_df) - len(first_occurrence_df)}')"
   ]
  },
  {
   "cell_type": "code",
   "execution_count": null,
   "metadata": {},
   "outputs": [],
   "source": [
    "# remove duplicates\n",
    "df_training_without_duplicates = df_training.drop_duplicates(subset=columns_to_check)\n",
    "print(f'Removed {len(df_training) - len(df_training_without_duplicates)} duplicated rows.')\n",
    "print(f'Current #Patients: {len(df_training_without_duplicates)}')"
   ]
  },
  {
   "cell_type": "markdown",
   "metadata": {},
   "source": [
    "## Inspect Columns"
   ]
  },
  {
   "cell_type": "code",
   "execution_count": null,
   "metadata": {},
   "outputs": [],
   "source": [
    "def get_value_counts(df: pd.DataFrame, col: str, normalize: bool = True, dropna: bool = False) -> pd.DataFrame:\n",
    "    \"\"\"\n",
    "    Computes the value counts for a specified column in a DataFrame, optionally normalizing and dropping missing values.\n",
    "\n",
    "    Parameters:\n",
    "    df (pd.DataFrame): The input DataFrame.\n",
    "    col (str): The name of the column to compute value counts for.\n",
    "    normalize (bool, optional): If True, the value counts will be normalized to percentages. Defaults to True.\n",
    "    dropna (bool, optional): If True, missing values will be dropped from the value counts. Defaults to False.\n",
    "\n",
    "    Returns:\n",
    "    pd.DataFrame: A DataFrame containing the value counts (*100 if normalized).\n",
    "    \"\"\"\n",
    "    # compute value counts\n",
    "    value_counts = df[col].value_counts(normalize=normalize, dropna=dropna)\n",
    "    \n",
    "    # multiply by 100 if normalized\n",
    "    if normalize:\n",
    "        value_counts *= 100\n",
    "    \n",
    "    return value_counts.to_frame()"
   ]
  },
  {
   "cell_type": "code",
   "execution_count": null,
   "metadata": {},
   "outputs": [],
   "source": [
    "def plot_category_distribution(df: pd.DataFrame, cat_col: str, index_labels: Optional[List[Tuple[int, str]]] = None) -> None:\n",
    "    \"\"\"\n",
    "    Plots the distribution of a categorical column in a DataFrame, normalizing the value counts and optionally setting a specific order.\n",
    "\n",
    "    Parameters:\n",
    "    df (pd.DataFrame): The input DataFrame.\n",
    "    cat_col (str): The name of the categorical column to plot.\n",
    "    index_labels (Optional[List[Tuple[int, str]]]): A list of tuples where each inner tuple contains an index and its corresponding label.\n",
    "    \"\"\"\n",
    "    # compute value counts\n",
    "    series = df[cat_col].copy()\n",
    "    series.name = None\n",
    "    value_counts_normalized = series.value_counts(normalize=True, dropna=False)\n",
    "\n",
    "    if index_labels:\n",
    "        # define the order of the categories\n",
    "        sorted_index_labels = sorted(index_labels)\n",
    "        order = [index for index, _ in sorted_index_labels]\n",
    "        # reindex the result to set the order\n",
    "        value_counts_normalized = value_counts_normalized.reindex(order)\n",
    "\n",
    "    # plot\n",
    "    value_counts_normalized.plot(kind='barh', figsize=(10, min(len(value_counts_normalized.index), 8)))\n",
    "    plt.title(f'{cat_col} Distribution (%)', fontsize=title_fontsize)\n",
    "    plt.xlim([0, 1])\n",
    "    if index_labels:\n",
    "        plt.yticks(ticks=order, labels=[f'{index} ({label})' for index, label in sorted_index_labels], fontsize=tick_fontsize)\n",
    "    plt.show()"
   ]
  },
  {
   "cell_type": "code",
   "execution_count": null,
   "metadata": {},
   "outputs": [],
   "source": [
    "def plot_histogram_with_percentages(df: pd.DataFrame, num_col: str, bins: Union[int, List[int]]) -> None:\n",
    "    \"\"\"\n",
    "    Plot a histogram for a specified numerical column of a DataFrame, showing the percentage each bin represents.\n",
    "\n",
    "    Parameters:\n",
    "    df (pd.DataFrame): The DataFrame containing the data.\n",
    "    num_col (str): The name of the numerical column to plot.\n",
    "    bins (int or List[int]): The number of bins or the boundaries of the bins.\n",
    "    \"\"\"\n",
    "    # check if the column exists and is numerical and has no missing values\n",
    "    if num_col not in df.columns:\n",
    "        raise ValueError(f\"Column '{num_col}' not found in the DataFrame.\")\n",
    "    if not pd.api.types.is_numeric_dtype(df[num_col]):\n",
    "        raise ValueError(f\"Column '{num_col}' is not numerical.\")\n",
    "    if df[num_col].isna().any():\n",
    "        raise ValueError(f\"Column '{num_col}' contains missing values. Please handle or remove them before plotting.\")\n",
    " \n",
    "    # calculate the weights to represent percentages\n",
    "    total_count = len(df[num_col])\n",
    "    weights = [100 / total_count] * total_count\n",
    "\n",
    "    # plot\n",
    "    plt.figure(figsize=(10, 6))\n",
    "    hist = sns.histplot(x=df[num_col], bins=bins, weights=weights)\n",
    "    for p in hist.patches:\n",
    "        height = p.get_height()\n",
    "        hist.text(p.get_x() + p.get_width() / 2., height + 0.5, f'{height:.1f}%', ha=\"center\", fontsize=text_fontsize)\n",
    "    plt.title(f'{num_col} Distribution', fontsize=title_fontsize)\n",
    "    plt.xlabel(num_col, fontsize=label_fontsize)\n",
    "    plt.ylabel('Percentage', fontsize=label_fontsize)\n",
    "    if isinstance(bins, int):\n",
    "        bins = pd.cut(df[num_col], bins=bins, retbins=True)[1]\n",
    "    plt.xticks(ticks=bins, fontsize=tick_fontsize)\n",
    "    plt.yticks(fontsize=tick_fontsize)\n",
    "    plt.show()"
   ]
  },
  {
   "cell_type": "markdown",
   "metadata": {},
   "source": [
    "### `DiagPeriodL90D`"
   ]
  },
  {
   "cell_type": "markdown",
   "metadata": {},
   "source": [
    "<span style=\"color: #ffed29;\">Approximately 38% of patients did not receive a metastatic cancer diagnosis within 90 days of screening.</span>"
   ]
  },
  {
   "cell_type": "code",
   "execution_count": null,
   "metadata": {},
   "outputs": [],
   "source": [
    "get_value_counts(df_training_without_duplicates, 'DiagPeriodL90D')"
   ]
  },
  {
   "cell_type": "code",
   "execution_count": null,
   "metadata": {},
   "outputs": [],
   "source": [
    "plot_category_distribution(df_training_without_duplicates, 'DiagPeriodL90D', [(0, '>= 90 Days'), (1, '< 90 Days')])"
   ]
  },
  {
   "cell_type": "markdown",
   "metadata": {},
   "source": [
    "### `patient_race`"
   ]
  },
  {
   "cell_type": "markdown",
   "metadata": {},
   "source": [
    "<span style=\"color: #ffed29;\">Race information is unknown for approximately 50% of patients. The only race that comprises more than 10% of the known cases is White, at about 28%.</span>"
   ]
  },
  {
   "cell_type": "code",
   "execution_count": null,
   "metadata": {},
   "outputs": [],
   "source": [
    "get_value_counts(df_training_without_duplicates, 'patient_race')"
   ]
  },
  {
   "cell_type": "code",
   "execution_count": null,
   "metadata": {},
   "outputs": [],
   "source": [
    "plot_category_distribution(df_training_without_duplicates, 'patient_race')"
   ]
  },
  {
   "cell_type": "markdown",
   "metadata": {},
   "source": [
    "### `payer_type`"
   ]
  },
  {
   "cell_type": "markdown",
   "metadata": {},
   "source": [
    "<span style=\"color: #ffed29;\">Around 47% of patients have commercial insurance. The proportions of patients who have Medicaid or Medicare are similar, each close to 20%.</span>"
   ]
  },
  {
   "cell_type": "code",
   "execution_count": null,
   "metadata": {},
   "outputs": [],
   "source": [
    "get_value_counts(df_training_without_duplicates, 'payer_type')"
   ]
  },
  {
   "cell_type": "code",
   "execution_count": null,
   "metadata": {},
   "outputs": [],
   "source": [
    "plot_category_distribution(df_training_without_duplicates, 'payer_type')"
   ]
  },
  {
   "cell_type": "markdown",
   "metadata": {},
   "source": [
    "### `patient_state`"
   ]
  },
  {
   "cell_type": "markdown",
   "metadata": {},
   "source": [
    "<span style=\"color: #ffed29;\">The top 6 states where more than 5% of patients come from are CA (18.9%), TX (8.9%), NY (8.1%), MI (6.6%), IL (6.1%), and OH (5.9%). The tail of the distribution includes RI, NH, and MA, each at 0.00777%.</span>"
   ]
  },
  {
   "cell_type": "code",
   "execution_count": null,
   "metadata": {},
   "outputs": [],
   "source": [
    "get_value_counts(df_training_without_duplicates, 'patient_state')"
   ]
  },
  {
   "cell_type": "code",
   "execution_count": null,
   "metadata": {},
   "outputs": [],
   "source": [
    "plot_category_distribution(df_training_without_duplicates, 'patient_state')"
   ]
  },
  {
   "cell_type": "markdown",
   "metadata": {},
   "source": [
    "### `patient_zip3`"
   ]
  },
  {
   "cell_type": "markdown",
   "metadata": {},
   "source": [
    "<span style=\"color: #ffed29;\">There are 739 zip3 codes with patient distribution ranging from 0.00777% to 1.8%.</span>"
   ]
  },
  {
   "cell_type": "markdown",
   "metadata": {},
   "source": [
    "### `patient_age`"
   ]
  },
  {
   "cell_type": "markdown",
   "metadata": {},
   "source": [
    "<span style=\"color: #ffed29;\">This dataset includes patients ranging from 18 to 91 years old, with more than 80% of the patients aged between 40 and 80.</span>"
   ]
  },
  {
   "cell_type": "code",
   "execution_count": null,
   "metadata": {},
   "outputs": [],
   "source": [
    "age_boundries = [10, 20, 30, 40, 50, 60, 70, 80, 90, 100]  # bins: [10-20), [20-30), [30-40), [40-50), [50-60), [60-70), [70-80), [80-90), [90-100]\n",
    "plot_histogram_with_percentages(df_training_without_duplicates, 'patient_age', age_boundries)"
   ]
  },
  {
   "cell_type": "markdown",
   "metadata": {},
   "source": [
    "### `patient_gender`"
   ]
  },
  {
   "cell_type": "markdown",
   "metadata": {},
   "source": [
    "<span style=\"color: #ffed29;\">All patients are female.</span>"
   ]
  },
  {
   "cell_type": "markdown",
   "metadata": {},
   "source": [
    "### `bmi`"
   ]
  },
  {
   "cell_type": "markdown",
   "metadata": {},
   "source": [
    "<span style=\"color: #ffed29;\">Almost 70% of patients' BMI information is not available. For the available records, BMI ranges from 14.0 to 85.0. Most patients fall into the categories of 'Normal weight', 'Pre-obesity', and 'Obesity class I'.</span>"
   ]
  },
  {
   "cell_type": "markdown",
   "metadata": {},
   "source": [
    "WHO Classification of BMI\n",
    "\n",
    "| BMI Interval (kg/m²) | Category                |\n",
    "|----------------------|-------------------------|\n",
    "| < 18.5               | Underweight             |\n",
    "| 18.5 - 24.9          | Normal weight           |\n",
    "| 25 - 29.9            | Pre-obesity             |\n",
    "| 30 - 34.9            | Obesity class I         |\n",
    "| 35 - 39.9            | Obesity class II        |\n",
    "| ≥ 40                 | Obesity class III       |"
   ]
  },
  {
   "cell_type": "code",
   "execution_count": null,
   "metadata": {},
   "outputs": [],
   "source": [
    "print(f'The proportion of missing BMI: {df_training_without_duplicates['bmi'].isna().sum() / len(df_training_without_duplicates) * 100:.1f}%')\n",
    "bmi_df = df_training_without_duplicates['bmi'].dropna().to_frame()\n",
    "bmi_boundries = [0, 18.5, 25, 30, 35, 40, 85]  # bins: [0, 18.5), [18.5, 25), [25, 30), [30, 35), [35, 40), [40, 85]\n",
    "plot_histogram_with_percentages(bmi_df, 'bmi', bmi_boundries)"
   ]
  },
  {
   "cell_type": "markdown",
   "metadata": {},
   "source": [
    "### `breast_cancer_diagnosis_code`"
   ]
  },
  {
   "cell_type": "markdown",
   "metadata": {},
   "source": [
    "<span style=\"color: #ffed29;\">\n",
    "    <ol>\n",
    "        <li>The most common codes are 174.9 (15.3%), C50.911 (13.9%), C50.912 (13.3%), and C50.919 (11.4%). Many other codes have fewer than 10 patients.\n",
    "        <li>ICD-10 codes offer more detailed diagnoses for breast cancer compared to ICD-9 codes. While it is possible to map ICD-9 codes to ICD-10 codes, this process can alter the distribution of diagnosis codes. Therefore, direct conversion is not performed. However, some available mappings include: C50.9|174.9, C50.41|174.4, C50.81|174.8, C50.21|174.2, C50.11|174.1, C50.51|174.5, C50.31|174.3, C50.01|174.6. #TODO: experiment on this\n",
    "        <li>Some codes in the dataset (C50.929, C50.021, 175.9, C50.421) indicate breast cancer in males, which contradicts the information in the `patient_gender` column. These discrepancies suggest that there may be man-made errors present in the dataset, possibly introduced during data collection or data preparation. These records are not removed but require additional attention. #TODO: remove/move to validation set\n",
    "        <li>The code 198.81 represents a secondary malignant neoplasm of the breast, indicating that the cancer has metastasized to the breast from another part of the body. This differs from the other codes in the dataset, which represent primary breast cancer. Only one patient out of nine has `DiagPeriodL90D=1`. This definitely requires attention. #TODO: check this\n",
    "    </ol>\n",
    "</span>"
   ]
  },
  {
   "cell_type": "code",
   "execution_count": null,
   "metadata": {},
   "outputs": [],
   "source": [
    "code_counts_df = get_value_counts(df_training_without_duplicates, 'breast_cancer_diagnosis_code')\n",
    "code_desc_df = df_training_without_duplicates[['breast_cancer_diagnosis_code', 'breast_cancer_diagnosis_desc']].drop_duplicates()\n",
    "code_counts_desc_df = pd.merge(code_counts_df, code_desc_df, left_index=True, right_on='breast_cancer_diagnosis_code')\n",
    "code_counts_desc_df"
   ]
  },
  {
   "cell_type": "markdown",
   "metadata": {},
   "source": [
    "#### Edge Cases\n"
   ]
  },
  {
   "cell_type": "code",
   "execution_count": null,
   "metadata": {},
   "outputs": [],
   "source": [
    "male_codes = ['C50929', 'C50021', '1759', 'C50421']\n",
    "secondary_code = '19881'"
   ]
  },
  {
   "cell_type": "code",
   "execution_count": null,
   "metadata": {},
   "outputs": [],
   "source": [
    "male_code_df = df_training_without_duplicates[df_training_without_duplicates['breast_cancer_diagnosis_code'].isin(male_codes)]\n",
    "male_code_df.loc[:, ['patient_id', 'DiagPeriodL90D']]"
   ]
  },
  {
   "cell_type": "code",
   "execution_count": null,
   "metadata": {},
   "outputs": [],
   "source": [
    "secondary_code_df = df_training_without_duplicates[df_training_without_duplicates['breast_cancer_diagnosis_code']==secondary_code]\n",
    "secondary_code_df.loc[:, ['patient_id', 'DiagPeriodL90D']]"
   ]
  },
  {
   "cell_type": "markdown",
   "metadata": {},
   "source": [
    "### `breast_cancer_diagnosis_desc`"
   ]
  },
  {
   "cell_type": "markdown",
   "metadata": {},
   "source": [
    "<span style=\"color: #ffed29;\">\n",
    "    <ol>\n",
    "        <li>Many words in the descriptions, such as 'Malignant'/'Malig', 'neoplasm'/'neopl', 'female', and 'breast', are not informative since they appear in almost every field. Removing these words can make the descriptions shorter and more concise. For example, the description 'Malignant neoplasm of breast (female), unspecified' can be reduced to 'unspecified'.\n",
    "        <li>Some words have short forms, and using a uniform representation can reduce unnecessary variations. For this purpose, 'unsp' will be replaced by 'unspecified', and 'ovrlp' will be replaced by 'overlapping'.\n",
    "        <li>Each original description consists of 4 to 10 words (averaging 8.44 words). These descriptions specify the position of the neoplasm, such as the quadrant and side. After cleaning, the descriptions have been reduced to 0 to 6 words (averaging 3.34 words), with the single empty description corresponding to C50.\n",
    "        <li>After data cleaning, encode each description into a feature vector. #TODO: experiment on this\n",
    "    </ol>\n",
    "</span>"
   ]
  },
  {
   "cell_type": "code",
   "execution_count": null,
   "metadata": {},
   "outputs": [],
   "source": [
    "def remove_tokens_and_handle_of(text: str, tokens: list) -> str:\n",
    "    \"\"\"\n",
    "    Removes specified tokens from the input text and, if the first or last token of the filtered text starts with 'of',\n",
    "    removes the respective token. Also, strips any trailing commas from the tokens.\n",
    "\n",
    "    Parameters:\n",
    "    text (str): The input text string.\n",
    "    tokens (list): A list of tokens to remove from the input text.\n",
    "\n",
    "    Returns:\n",
    "    str: The filtered text with specified tokens removed, the first or last token removed if it starts with 'of',\n",
    "         and trailing commas stripped from the tokens.\n",
    "    \"\"\"\n",
    "    words = text.split()\n",
    "    filtered_words = [word.rstrip(',') for word in words if word not in tokens]\n",
    "\n",
    "    if filtered_words and filtered_words[0].startswith('of'):\n",
    "        filtered_words = filtered_words[1:]\n",
    "\n",
    "    if filtered_words and filtered_words[-1] == 'of':\n",
    "        filtered_words = filtered_words[:-1]\n",
    "    \n",
    "    return ' '.join(filtered_words)"
   ]
  },
  {
   "cell_type": "code",
   "execution_count": null,
   "metadata": {},
   "outputs": [],
   "source": [
    "def replace_tokens(text: str, replacements: dict) -> str:\n",
    "    \"\"\"\n",
    "    Replaces tokens in the input text based on a dictionary of token pairs.\n",
    "\n",
    "    Parameters:\n",
    "    text (str): The input text string.\n",
    "    replacements (dict): A dictionary where keys are tokens to be replaced and values are the replacement tokens.\n",
    "\n",
    "    Returns:\n",
    "    str: The text with tokens replaced according to the dictionary.\n",
    "    \"\"\"\n",
    "    words = text.split()\n",
    "    replaced_words = [replacements.get(word, word) for word in words]\n",
    "    return ' '.join(replaced_words)"
   ]
  },
  {
   "cell_type": "code",
   "execution_count": null,
   "metadata": {},
   "outputs": [],
   "source": [
    "# remove tokens\n",
    "tokens_to_remove = ['Malignant', 'malignant', 'Malig',\n",
    "                    'neoplasm', 'neoplm', \n",
    "                    'female', '(female),',\n",
    "                    'breast', 'breast,']\n",
    "code_counts_desc_df['breast_cancer_diagnosis_desc_cleaned'] = code_counts_desc_df['breast_cancer_diagnosis_desc'].apply(lambda x: remove_tokens_and_handle_of(x, tokens_to_remove))\n"
   ]
  },
  {
   "cell_type": "code",
   "execution_count": null,
   "metadata": {},
   "outputs": [],
   "source": [
    "# replace tokens\n",
    "token_replacements = {\n",
    "    'unsp': 'unspecified',\n",
    "    'ovrlp': 'overlapping'\n",
    "}\n",
    "code_counts_desc_df['breast_cancer_diagnosis_desc_cleaned'] = code_counts_desc_df['breast_cancer_diagnosis_desc_cleaned'].apply(lambda x: replace_tokens(x, token_replacements))"
   ]
  },
  {
   "cell_type": "code",
   "execution_count": null,
   "metadata": {},
   "outputs": [],
   "source": [
    "def count_words(text: str) -> int:\n",
    "    \"\"\"\n",
    "    Counts the number of words in the input text, splitting by spaces.\n",
    "\n",
    "    Parameters:\n",
    "    text (str): The input text string.\n",
    "\n",
    "    Returns:\n",
    "    int: The number of words in the text.\n",
    "    \"\"\"\n",
    "    return len(text.split())"
   ]
  },
  {
   "cell_type": "code",
   "execution_count": null,
   "metadata": {},
   "outputs": [],
   "source": [
    "code_counts_desc_df['breast_cancer_diagnosis_desc_count'] = code_counts_desc_df['breast_cancer_diagnosis_desc'].apply(count_words)\n",
    "code_counts_desc_df['breast_cancer_diagnosis_desc_cleaned_count'] = code_counts_desc_df['breast_cancer_diagnosis_desc_cleaned'].apply(count_words)"
   ]
  },
  {
   "cell_type": "markdown",
   "metadata": {},
   "source": [
    "### `metastatic_cancer_diagnosis_code`"
   ]
  },
  {
   "cell_type": "markdown",
   "metadata": {},
   "source": [
    "<span style=\"color: #ffed29;\">\n",
    "    <ol>\n",
    "        <li>The top 3 diagnosis codes are C77.3(54.6%; Secondary and unspecified malignant neoplasm of axilla and upper limb lymph nodes), C79.51(14.2%; Secondary malignant neoplasm of bone), C77.9(5.9%; Secondary and unspecified malignant neoplasm of lymph node, unspecified).\n",
    "        <li>Only 9 out of 43 diagnosis codes have metastatic first novel treatments, and these treatments occur in 24 out of 12,870 patients (0.186%) in the dataset.\n",
    "    </ol>\n",
    "</span>"
   ]
  },
  {
   "cell_type": "code",
   "execution_count": null,
   "metadata": {},
   "outputs": [],
   "source": [
    "metastatic_code_counts_df = get_value_counts(df_training_without_duplicates, 'metastatic_cancer_diagnosis_code')\n",
    "metastatic_code_counts_df"
   ]
  },
  {
   "cell_type": "code",
   "execution_count": null,
   "metadata": {},
   "outputs": [],
   "source": [
    "metastatic_code_treatment_df = df_training_without_duplicates[['metastatic_cancer_diagnosis_code', 'metastatic_first_novel_treatment', 'metastatic_first_novel_treatment_type']].drop_duplicates().dropna()\n",
    "metastatic_code_counts_treatment_df = pd.merge(metastatic_code_counts_df, metastatic_code_treatment_df, left_index=True, right_on='metastatic_cancer_diagnosis_code')\n",
    "metastatic_code_counts_treatment_df"
   ]
  },
  {
   "cell_type": "code",
   "execution_count": null,
   "metadata": {},
   "outputs": [],
   "source": [
    "patients_with_first_novel_treatments_df = df_training_without_duplicates[df_training_without_duplicates['metastatic_first_novel_treatment'].notna()]\n",
    "patients_with_first_novel_treatments_df"
   ]
  },
  {
   "cell_type": "markdown",
   "metadata": {},
   "source": [
    "### `metastatic_first_novel_treatment` & `metastatic_first_novel_treatment_type`"
   ]
  },
  {
   "cell_type": "markdown",
   "metadata": {},
   "source": [
    "<span style=\"color: #ffed29;\">\n",
    "There are only two metastatic first novel treatments: PEMBROLIZUMAB and OLAPARIB. Both of these treatments are of the type Antineoplastics.\n",
    "</span>"
   ]
  },
  {
   "cell_type": "code",
   "execution_count": null,
   "metadata": {},
   "outputs": [],
   "source": [
    "get_value_counts(df_training_without_duplicates, 'metastatic_first_novel_treatment')"
   ]
  },
  {
   "cell_type": "code",
   "execution_count": null,
   "metadata": {},
   "outputs": [],
   "source": [
    "get_value_counts(df_training_without_duplicates, 'metastatic_first_novel_treatment_type')"
   ]
  }
 ],
 "metadata": {
  "kernelspec": {
   "display_name": "Wids2024DevEnv",
   "language": "python",
   "name": "python3"
  },
  "language_info": {
   "codemirror_mode": {
    "name": "ipython",
    "version": 3
   },
   "file_extension": ".py",
   "mimetype": "text/x-python",
   "name": "python",
   "nbconvert_exporter": "python",
   "pygments_lexer": "ipython3",
   "version": "3.12.7"
  }
 },
 "nbformat": 4,
 "nbformat_minor": 2
}
