{
 "cells": [
  {
   "cell_type": "markdown",
   "metadata": {},
   "source": [
    "# Introduction"
   ]
  },
  {
   "cell_type": "markdown",
   "metadata": {},
   "source": [
    "## [Overview](https://www.kaggle.com/competitions/widsdatathon2024-challenge1/overview)\n",
    "- Objective: Develop a model to predict if patients received a metastatic cancer diagnosis within 90 days of screening (i.e., `DiagPeriodL90D`) using a unique oncology dataset.\n",
    "- Motivation: \n",
    "    - Metastatic TNBC is considered the most aggressive TNBC and requires most urgent and timely treatment. Unnecessary delays in diagnosis and subsequent treatment can have devastating effects in these difficult cancers. Differences in the wait time to get treatment is a good proxy for disparities in healthcare access.\n",
    "    - The primary goal of building these models is to detect relationships between demographics of the patient with the likelihood of getting timely treatment. The secondary goal is to see if environmental hazards impact proper diagnosis and treatment.  # TODO: check this\n",
    "- Dataset\n",
    "    - Source: Provided by Gilead Sciences, originating from Health Verity and enriched with third-party geo-demographic data and zip code level toxicology data from NASA/Columbia University.\n",
    "    - Content: Information about demographics, diagnosis, treatment options, and insurance for patients diagnosed with breast cancer from 2015-2018.\n",
    "    - Highlighted Features:\n",
    "        - Demographics (e.g., age, gender, race, ...)\n",
    "        - Diagnosis and treatment details (e.g., breast cancer diagnosis code, metastatic cancer diagnosis code, metastatic cancer treatments, ...)\n",
    "        - Insurance information\n",
    "        - Geo (zip-code level) demographic data (e.g, income, education, rent, race, poverty, ...)\n",
    "        - Toxic air quality (zip-code level) data (e.g., Ozone, PM25 and NO2, ...)\n",
    "- Evaluation\n",
    "    - Metric: Area Under the Receiver Operating Characteristic (ROC) Curve (AUC-ROC).\n",
    "    - Leaderboard:\n",
    "        - During the competition: 51% of the test data.\n",
    "        - Final standings: 49% of the test data.\n",
    "- Submission Format\n",
    "    - File Format: CSV\n",
    "    - Columns:\n",
    "        - `patient_id` (integer)\n",
    "        - `DiagPeriodL90D` (percentage)\n",
    "    - Example:\n",
    "        ```\n",
    "        patient_id,DiagPeriodL90D\n",
    "        372069,.5\n",
    "        981264,.5\n",
    "        ```"
   ]
  },
  {
   "cell_type": "markdown",
   "metadata": {},
   "source": [
    "## [Dataset](https://www.kaggle.com/competitions/widsdatathon2024-challenge1/data)\n",
    "Roughly 18k records, each corresponds to a single patient and her Diagnosis Period\n",
    "- `training.csv`\n",
    "    - 12906 records\n",
    "    - 83 columns, the last column is `DiagPeriodL90D` (int64)\n",
    "- `test.csv`\n",
    "    - 5792 records\n",
    "    - 82 columns"
   ]
  },
  {
   "cell_type": "markdown",
   "metadata": {},
   "source": [
    "### Columns"
   ]
  },
  {
   "cell_type": "markdown",
   "metadata": {},
   "source": [
    "| Column Name | Meaning | Notes Before EDA |\n",
    "|-------------|---------|------------------|\n",
    "| `patient_id` | Unique identification number of patient | only useful in data pre- and post-processing, but irrelavant to target prediction |\n",
    "| `patient_race` | <span style=\"color: #57b9ff;\">Asian, African American, Hispanic or Latino, White, Other Race</span> | races + nan, nan -> \"unknown\", encode |\n",
    "| `payer_type` | <span style=\"color: #57b9ff;\">Payer type at Medicaid, Commercial, Medicare on the metastatic date</span> | payers + nan, nan -> \"unknown\", encode |\n",
    "| `patient_state` | <span style=\"color: #57b9ff;\">Patient state (e.g., AL, AK, AZ, AR, CA, CO, etc.) on the metastatic date</span> | states + nan, nan -> \"unknown\", encode |\n",
    "| `patient_zip3` | Patient Zip3 (e.g., 190) on the metastatic date | int64, encode? |\n",
    "| `patient_age` | Derived from Patient Year of Birth (index year minus year of birth) | int64 |\n",
    "| `patient_gender` | <span style=\"color: #57b9ff;\">F, M on the metastatic date</span> | genders, encode |\n",
    "| `bmi` | If available, will show available BMI (e.g., 24) information (Earliest BMI recording post metastatic date) | float64 + nan, nan -> -1? |\n",
    "| `breast_cancer_diagnosis_code` | <span style=\"color: #57b9ff;\">ICD10 (e.g., C50412) or ICD9 (e.g., 1748) diagnoses code</span> | codes, encode |\n",
    "| `breast_cancer_diagnosis_desc` | <span style=\"color: #ffa500;\">ICD10 or ICD9 code description. This column is raw text and may require NLP/processing and cleaning</span> | length?, encode, which tokenizer?, token diversity?, fine-tune tokenizer? |\n",
    "| `metastatic_cancer_diagnosis_code` | <span style=\"color: #57b9ff;\">ICD10 (e.g., C773) diagnoses code | codes, encode |\n",
    "| `metastatic_first_novel_treatment` | <span style=\"color: #57b9ff;\">Generic drug name of the first novel treatment (e.g., \"Cisplatin\") after metastatic diagnosis</span> | very few, very timely diagnosis? nan -> \"unknown\" |\n",
    "| `metastatic_first_novel_treatment_type` | <span style=\"color: #57b9ff;\">Description of the treatment (e.g., Antineoplastic) of the first novel treatment after metastatic diagnosis</span> | very few, very timely diagnosis? nan -> \"unknown\" |\n",
    "| `Region` | <span style=\"color: #57b9ff;\">Region of patient location (e.g., Midwest)</span> | regions + nan, nan -> \"unknown\", encode |\n",
    "| `Division` | <span style=\"color: #57b9ff;\">Division of patient location (e.g., East North Central)</span> | divisions + nan, nan -> \"unknown\", encode |\n",
    "| `population` | An estimate of the zip code's population | one record missing!, nan -> -1?, remove record? |\n",
    "| `density` | The estimated population per square kilometer | one record missing!, nan -> -1?, remove record? |\n",
    "| `age_median` | The median age of residents in the zip code | which are irrelavant? aggregate? nan -> -1? |\n",
    "| `male` | The percentage of residents who report being male (e.g., 55.1) | |\n",
    "| `female` | The percentage of residents who report being female (e.g., 44.9) | |\n",
    "| `married` | The percentage of residents who report being married (e.g., 44.9) | |\n",
    "| `family_size` | The average size of resident families (e.g., 3.22) | |\n",
    "| `income_household_median` | Median household income in USD | |\n",
    "| `income_household_six_figure` | Percentage of households that earn at least $100,000 (e.g., 25.3) | |\n",
    "| `home_ownership` | Percentage of households that own (rather than rent) their residence | |\n",
    "| `housing_units` | The number of housing units (or households) in the zip code | |\n",
    "| `home_value` | The median value of homes that are owned by residents | |\n",
    "| `rent_median` | The median rent paid by renters | |\n",
    "| `education_college_or_above` | The percentage of residents with at least a 4-year degree | |\n",
    "| `labor_force_participation` | The percentage of residents 16 and older in the labor force | |\n",
    "| `unemployment_rate` | The percentage of residents unemployed | |\n",
    "| `race_white` | The percentage of residents who report their race as White | |\n",
    "| `race_black` | The percentage of residents who report their race as Black or African American | |\n",
    "| `race_asian` | The percentage of residents who report their race as Asian | |\n",
    "| `race_native` | The percentage of residents who report their race as American Indian and Alaska Native | |\n",
    "| `race_pacific` | The percentage of residents who report their race as Native Hawaiian and Other Pacific Islander | |\n",
    "| `race_other` | The percentage of residents who report their race as Some other race | |\n",
    "| `race_multiple` | The percentage of residents who report their race as Two or more races | |\n",
    "| `hispanic` | The percentage of residents who report being Hispanic. Note: Hispanic is considered to be an ethnicity and not a race | |\n",
    "| `age_under_10` | The percentage of residents aged 0-9 | |\n",
    "| `age_10_to_19` | The percentage of residents aged 10-19 | |\n",
    "| `age_20s` | The percentage of residents aged 20-29 | |\n",
    "| `age_30s` | The percentage of residents aged 30-39 | |\n",
    "| `age_40s` | The percentage of residents aged 40-49 | |\n",
    "| `age_50s` | The percentage of residents aged 50-59 | |\n",
    "| `age_60s` | The percentage of residents aged 60-69 | |\n",
    "| `age_70s` | The percentage of residents aged 70-79 | |\n",
    "| `age_over_80` | The percentage of residents aged over 80 | |\n",
    "| `divorced` | The percentage of residents divorced | |\n",
    "| `never_married` | The percentage of residents never married | |\n",
    "| `widowed` | The percentage of residents widowed | |\n",
    "| `family_dual_income` | The percentage of families with dual income earners | |\n",
    "| `income_household_under_5` | The percentage of households with income under $5,000 | |\n",
    "| `income_household_5_to_10` | The percentage of households with income from $5,000-$10,000 | |\n",
    "| `income_household_10_to_15` | The percentage of households with income from $10,000-$15,000 | |\n",
    "| `income_household_15_to_20` | The percentage of households with income from $15,000-$20,000 | |\n",
    "| `income_household_20_to_25` | The percentage of households with income from $20,000-$25,000 | |\n",
    "| `income_household_25_to_35` | The percentage of households with income from $25,000-$35,000 | |\n",
    "| `income_household_35_to_50` | The percentage of households with income from $35,000-$50,000 | |\n",
    "| `income_household_50_to_75` | The percentage of households with income from $50,000-$75,000 | |\n",
    "| `income_household_75_to_100` | The percentage of households with income from $75,000-$100,000 | |\n",
    "| `income_household_100_to_150` | The percentage of households with income from $100,000-$150,000 | |\n",
    "| `income_household_150_over` | The percentage of households with income over $150,000 | |\n",
    "| `income_individual_median` | The median income of individuals in the zip code | |\n",
    "| `poverty` | The median value of owner-occupied homes | |\n",
    "| `rent_burden` | The median rent as a percentage of the median renter's household income | |\n",
    "| `education_less_highschool` | The percentage of residents with less than a high school education | |\n",
    "| `education_highschool` | The percentage of residents with a high school diploma but no more | |\n",
    "| `education_some_college` | The percentage of residents with some college but no more | |\n",
    "| `education_bachelors` | The percentage of residents with a bachelor's degree (or equivalent) but no more | |\n",
    "| `education_graduate` | The percentage of residents with a graduate degree | |\n",
    "| `education_stem_degree` | The percentage of college graduates with a Bachelor's degree or higher in a Science and Engineering (or related) field | |\n",
    "| `self_employed` | The percentage of households reporting self-employment income on their 2016 IRS tax return | |\n",
    "| `farmer` | The percentage of households reporting farm income on their 2016 IRS tax return | |\n",
    "| `disabled` | The percentage of residents who report a disability | |\n",
    "| `limited_english` | The percentage of residents who only speak limited English | |\n",
    "| `commute_time` | The median commute time of resident workers in minutes | |\n",
    "| `health_uninsured` | The percentage of residents who report not having health insurance | |\n",
    "| `veteran` | The percentage of residents who are veterans | |\n",
    "| `Ozone` | Annual Ozone (O3) concentration data at Zip3 level. This data shows how air quality data may impact health | many record missing, nan -> -1? |\n",
    "| `PM25` | Annual Fine Particulate Matter (PM2.5) concentration data at Zip3 level. This data shows how air quality data may impact health | many record missing, nan -> -1? |\n",
    "| `N02` | Annual Nitrogen Dioxide (NO2) concentration data at Zip3 level. This data shows how air quality data may impact health | many record missing, nan -> -1? |\n",
    "| `DiagPeriodL90D` | Diagnosis period being less than 90 days | |"
   ]
  },
  {
   "cell_type": "markdown",
   "metadata": {},
   "source": [
    "# Exploratory Data Analysis"
   ]
  },
  {
   "cell_type": "markdown",
   "metadata": {},
   "source": [
    "Thoughts:\n",
    "- Don't remove records easily where certain columns are empty. You don't know if such data missing pattern indicates certain characteristics of patients which correlates to target prediction.\n",
    "- Ensure same pre- and post-processing for training and test data.\n",
    "- Logistic Regression as a prelimilary step to discover relevant columns.\n",
    "\n",
    "Questions:\n",
    "- Which columns need normalization?\n",
    "- Unify numericals to float64?"
   ]
  },
  {
   "cell_type": "code",
   "execution_count": 16,
   "metadata": {},
   "outputs": [],
   "source": [
    "import pandas as pd\n",
    "import seaborn as sns\n",
    "import matplotlib.pyplot as plt"
   ]
  },
  {
   "cell_type": "code",
   "execution_count": 17,
   "metadata": {},
   "outputs": [],
   "source": [
    "# seaborn style (default)\n",
    "sns.set_theme(context=\"notebook\", style=\"darkgrid\", palette=\"deep\", font=\"sans-serif\", font_scale=1, color_codes=True, rc=None)\n",
    "\n",
    "# font sizes\n",
    "title_fontsize = 14\n",
    "label_fontsize = 12\n",
    "tick_fontsize = 10\n",
    "text_fontsize = 10\n",
    "\n",
    "# random state\n",
    "random_state = 42"
   ]
  },
  {
   "cell_type": "code",
   "execution_count": null,
   "metadata": {},
   "outputs": [],
   "source": [
    "df_training = pd.read_csv('data/training.csv')\n",
    "df_training.info()"
   ]
  }
 ],
 "metadata": {
  "kernelspec": {
   "display_name": "Wids2024DevEnv",
   "language": "python",
   "name": "python3"
  },
  "language_info": {
   "codemirror_mode": {
    "name": "ipython",
    "version": 3
   },
   "file_extension": ".py",
   "mimetype": "text/x-python",
   "name": "python",
   "nbconvert_exporter": "python",
   "pygments_lexer": "ipython3",
   "version": "3.12.7"
  }
 },
 "nbformat": 4,
 "nbformat_minor": 2
}
