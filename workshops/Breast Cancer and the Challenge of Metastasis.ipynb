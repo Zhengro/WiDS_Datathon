{
 "cells": [
  {
   "cell_type": "markdown",
   "metadata": {},
   "source": [
    "# [Breast Cancer and the Challenge of Metastasis](https://www.youtube.com/watch?v=EGhXihYRd7g)\n",
    "by Professor Allison Kurian, Stanford University"
   ]
  },
  {
   "cell_type": "markdown",
   "metadata": {},
   "source": [
    "## Global Context"
   ]
  },
  {
   "cell_type": "markdown",
   "metadata": {},
   "source": [
    "<p style=\"background-color:#cbc3e3; padding:6px; border-width:3px; border-color:#f5ecda; border-style:solid; border-radius:6px\">\n",
    "  <img src=\"images/incidencerates.png\" alt=\"incidencerates\" style=\"max-width:100%; height:auto;\">\n",
    "</p>"
   ]
  },
  {
   "cell_type": "markdown",
   "metadata": {},
   "source": [
    "<p style=\"background-color:#cbc3e3; padding:6px; border-width:3px; border-color:#f5ecda; border-style:solid; border-radius:6px\">\n",
    "  <img src=\"images/mortalityrates.png\" alt=\"mortalityrates\" style=\"max-width:100%; height:auto;\">\n",
    "</p>"
   ]
  },
  {
   "cell_type": "markdown",
   "metadata": {},
   "source": [
    "## Risk Factors, Subtypes, Staging "
   ]
  },
  {
   "cell_type": "markdown",
   "metadata": {},
   "source": [
    "<p style=\"background-color:#cbc3e3; padding:6px; border-width:3px; border-color:#f5ecda; border-style:solid; border-radius:6px\">\n",
    "  <img src=\"images/riskfactors.png\" alt=\"riskfactors\" style=\"max-width:100%; height:auto;\">\n",
    "</p>"
   ]
  },
  {
   "cell_type": "markdown",
   "metadata": {},
   "source": [
    "<p style=\"background-color:#cbc3e3; padding:6px; border-width:3px; border-color:#f5ecda; border-style:solid; border-radius:6px\">\n",
    "  <img src=\"images/subtypes.png\" alt=\"subtypes\" style=\"max-width:100%; height:auto;\">\n",
    "</p>"
   ]
  },
  {
   "cell_type": "markdown",
   "metadata": {},
   "source": [
    "<p style=\"background-color:#cbc3e3; padding:6px; border-width:3px; border-color:#f5ecda; border-style:solid; border-radius:6px\">\n",
    "  <img src=\"images/stages.png\" alt=\"stages\" style=\"max-width:100%; height:auto;\">\n",
    "</p>"
   ]
  },
  {
   "cell_type": "markdown",
   "metadata": {},
   "source": [
    "## Treating Early-Stage Disease"
   ]
  },
  {
   "cell_type": "markdown",
   "metadata": {},
   "source": [
    "<p style=\"background-color:#cbc3e3; padding:6px; border-width:3px; border-color:#f5ecda; border-style:solid; border-radius:6px\">\n",
    "  <img src=\"images/carepathways.png\" alt=\"carepathways\" style=\"max-width:100%; height:auto;\">\n",
    "</p>"
   ]
  },
  {
   "cell_type": "markdown",
   "metadata": {},
   "source": [
    "<p style=\"background-color:#cbc3e3; padding:6px; border-width:3px; border-color:#f5ecda; border-style:solid; border-radius:6px\">\n",
    "  <img src=\"images/locoregionaltherapy.png\" alt=\"locoregionaltherapy\" style=\"max-width:100%; height:auto;\">\n",
    "</p>"
   ]
  },
  {
   "cell_type": "markdown",
   "metadata": {},
   "source": [
    "<p style=\"background-color:#cbc3e3; padding:6px; border-width:3px; border-color:#f5ecda; border-style:solid; border-radius:6px\">\n",
    "  <img src=\"images/systemtherapy.png\" alt=\"systemtherapy\" style=\"max-width:100%; height:auto;\">\n",
    "</p>"
   ]
  },
  {
   "cell_type": "markdown",
   "metadata": {},
   "source": [
    "## Metastasis Trajectory, Prevention"
   ]
  },
  {
   "cell_type": "markdown",
   "metadata": {},
   "source": [
    "<p style=\"background-color:#cbc3e3; padding:6px; border-width:3px; border-color:#f5ecda; border-style:solid; border-radius:6px\">\n",
    "  <img src=\"images/trajectory.png\" alt=\"trajectory\" style=\"max-width:100%; height:auto;\">\n",
    "</p>"
   ]
  },
  {
   "cell_type": "markdown",
   "metadata": {},
   "source": [
    "<p style=\"background-color:#cbc3e3; padding:6px; border-width:3px; border-color:#f5ecda; border-style:solid; border-radius:6px\">\n",
    "  <img src=\"images/variabletimelines.png\" alt=\"variabletimelines\" style=\"max-width:100%; height:auto;\">\n",
    "</p>"
   ]
  },
  {
   "cell_type": "markdown",
   "metadata": {},
   "source": [
    "<p style=\"background-color:#cbc3e3; padding:6px; border-width:3px; border-color:#f5ecda; border-style:solid; border-radius:6px\">\n",
    "  <img src=\"images/preventingmetastasis.png\" alt=\"preventingmetastasis\" style=\"max-width:100%; height:auto;\">\n",
    "</p>"
   ]
  },
  {
   "cell_type": "markdown",
   "metadata": {},
   "source": [
    "<p style=\"background-color:#cbc3e3; padding:6px; border-width:3px; border-color:#f5ecda; border-style:solid; border-radius:6px\">\n",
    "  <img src=\"images/trackingdna.png\" alt=\"trackingdna\" style=\"max-width:100%; height:auto;\">\n",
    "</p>"
   ]
  },
  {
   "cell_type": "markdown",
   "metadata": {},
   "source": [
    "## Metastasis Treatments, Outcomes"
   ]
  },
  {
   "cell_type": "markdown",
   "metadata": {},
   "source": [
    "<p style=\"background-color:#cbc3e3; padding:6px; border-width:3px; border-color:#f5ecda; border-style:solid; border-radius:6px\">\n",
    "  <img src=\"images/drugdevelopmentprogress.png\" alt=\"drugdevelopmentprogress\" style=\"max-width:100%; height:auto;\">\n",
    "</p>"
   ]
  },
  {
   "cell_type": "markdown",
   "metadata": {},
   "source": [
    "<p style=\"background-color:#cbc3e3; padding:6px; border-width:3px; border-color:#f5ecda; border-style:solid; border-radius:6px\">\n",
    "  <img src=\"images/survivalimprovement1.png\" alt=\"survivalimprovement1\" style=\"max-width:100%; height:auto;\">\n",
    "</p>"
   ]
  },
  {
   "cell_type": "markdown",
   "metadata": {},
   "source": [
    "<p style=\"background-color:#cbc3e3; padding:6px; border-width:3px; border-color:#f5ecda; border-style:solid; border-radius:6px\">\n",
    "  <img src=\"images/survivalimprovement2.png\" alt=\"survivalimprovement2\" style=\"max-width:100%; height:auto;\">\n",
    "</p>"
   ]
  },
  {
   "cell_type": "markdown",
   "metadata": {},
   "source": [
    "<p style=\"background-color:#cbc3e3; padding:6px; border-width:3px; border-color:#f5ecda; border-style:solid; border-radius:6px\">\n",
    "  <img src=\"images/tnbc.png\" alt=\"tnbc\" style=\"max-width:100%; height:auto;\">\n",
    "</p>"
   ]
  },
  {
   "cell_type": "markdown",
   "metadata": {},
   "source": [
    "<p style=\"background-color:#cbc3e3; padding:6px; border-width:3px; border-color:#f5ecda; border-style:solid; border-radius:6px\">\n",
    "  <img src=\"images/questions.png\" alt=\"questions\" style=\"max-width:100%; height:auto;\">\n",
    "</p>"
   ]
  }
 ],
 "metadata": {
  "language_info": {
   "name": "python"
  }
 },
 "nbformat": 4,
 "nbformat_minor": 2
}
