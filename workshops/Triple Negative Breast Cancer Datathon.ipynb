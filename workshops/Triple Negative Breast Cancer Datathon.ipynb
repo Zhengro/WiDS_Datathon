{
 "cells": [
  {
   "cell_type": "markdown",
   "metadata": {},
   "source": [
    "# [Triple Negative Breast Cancer Datathon](https://www.widsworldwide.org/get-inspired/blog/triple-negative-breast-cancer-datathon-a-tutorial/)\n",
    "by Sharada Kalanidhi, WiDS Datathon Technical Director"
   ]
  }
 ],
 "metadata": {
  "language_info": {
   "name": "python"
  }
 },
 "nbformat": 4,
 "nbformat_minor": 2
}
